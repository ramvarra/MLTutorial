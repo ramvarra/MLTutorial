{
 "cells": [
  {
   "cell_type": "code",
   "execution_count": 2,
   "metadata": {},
   "outputs": [],
   "source": [
    "import constraint\n",
    "import numpy as np\n",
    "import copy"
   ]
  },
  {
   "cell_type": "code",
   "execution_count": 3,
   "metadata": {
    "collapsed": true
   },
   "outputs": [],
   "source": [
    "\n",
    "class ModelParser:\n",
    "    @staticmethod\n",
    "    def var_ix(vs):\n",
    "        assert vs[0] == 'X', f\"Bad vs {vs}\"\n",
    "        return int(vs[1:])\n",
    "    @staticmethod\n",
    "    def is_var(vs):\n",
    "        return isinstance(vs, str)\n",
    "\n",
    "    def __init__(self, model, var_domain=None):\n",
    "        self.var_domain = var_domain\n",
    "        rows = filter(bool, map(str.strip, model.split('\\n')))\n",
    "        mrep = []\n",
    "        for row in rows:    \n",
    "            mrep.append(list(filter(bool, map(str.strip, row.split()))))\n",
    "\n",
    "        shape = len(mrep)-2, len(mrep[0])-1\n",
    "        assert shape[0] == shape[1], f\"Bad shape - {shape}\"\n",
    "\n",
    "        # to ints\n",
    "        var_index = 0\n",
    "        for i in range(len(mrep)):    \n",
    "            for j in range(len(mrep[i])):\n",
    "                if mrep[i][j] == 'X':\n",
    "                    mrep[i][j] = f'X{var_index}'\n",
    "                    var_index += 1\n",
    "                else:\n",
    "                    mrep[i][j] = int(mrep[i][j])\n",
    "        self.num_vars = var_index\n",
    "        \n",
    "        # validate all numbers in domain\n",
    "        if self.var_domain:\n",
    "            for row in range(shape[0]):\n",
    "                for col in range(shape[1]):\n",
    "                    if not self.is_var(mrep[row][col]):\n",
    "                        assert mrep[row][col] in self.var_domain, f\"Value {mrep[row][col]} at [{row}, {col}] is not in domain {self.var_domain}\"\n",
    "                    \n",
    "        constraints = []\n",
    "        # row sum eqns\n",
    "        for i in range(shape[0]):\n",
    "            row_sum = mrep[i][-1]\n",
    "            var_list = []\n",
    "            for v in mrep[i][:-1]:\n",
    "                if self.is_var(v):\n",
    "                    var_list.append(self.var_ix(v))\n",
    "                else:\n",
    "                    row_sum -= v\n",
    "            if len(var_list):\n",
    "                constraints.append((var_list, row_sum))\n",
    "\n",
    "        # col sum eqns\n",
    "        for col in range(shape[1]):\n",
    "            col_sum = mrep[-2][col]\n",
    "            var_list = []\n",
    "            for row in range(shape[0]): \n",
    "                v = mrep[row][col]\n",
    "                if self.is_var(v):\n",
    "                    var_list.append(self.var_ix(v))\n",
    "                else:\n",
    "                    col_sum -= v\n",
    "            if len(var_list):\n",
    "                constraints.append((var_list, col_sum))\n",
    "\n",
    "        # diagonal constraints - D1\n",
    "        var_list = []\n",
    "        d_sum = mrep[-1][0]\n",
    "        for i in range(shape[0]):\n",
    "            row, col = i, i            \n",
    "            v = mrep[row][col]\n",
    "            if self.is_var(v):\n",
    "                var_list.append(self.var_ix(v))\n",
    "            else:\n",
    "                d_sum -= v\n",
    "        if len(var_list):\n",
    "            constraints.append((var_list, d_sum))\n",
    "\n",
    "\n",
    "        # diagonal constraints - D2\n",
    "        var_list = []\n",
    "        d_sum = mrep[-1][1]\n",
    "        for i in range(shape[0]):\n",
    "            row, col = i, shape[1] - i - 1            \n",
    "            v = mrep[row][col]\n",
    "            if self.is_var(v):\n",
    "                var_list.append(self.var_ix(v))\n",
    "            else:\n",
    "                d_sum -= v\n",
    "        if len(var_list):\n",
    "            constraints.append((var_list, d_sum))\n",
    "        \n",
    "        self.mrep = mrep\n",
    "        self.constraints = constraints\n",
    "        self.shape = shape\n",
    "    \n",
    "    def get_num_vars(self):\n",
    "        return self.num_vars\n",
    "    \n",
    "    def print_solution(self, s):\n",
    "        new_mrep = copy.deepcopy(self.mrep)\n",
    "\n",
    "        for row in range(self.shape[0]):\n",
    "            for col in range(self.shape[1]):\n",
    "                if self.is_var(new_mrep[row][col]):\n",
    "                    var_ix = self.var_ix(new_mrep[row][col])\n",
    "                    new_mrep[row][col] = f'*{s[var_ix]}*'\n",
    "        self.display_mrep(new_mrep)\n",
    "    \n",
    "    def display_mrep(self, mrep=None):\n",
    "        if mrep is None:\n",
    "            mrep = self.mrep\n",
    "        for row in range(len(mrep)):\n",
    "            row_txt = \"  \".join(\"{:6}\".format(str(mrep[row][col])) for col in range(len(mrep[row])))\n",
    "            print(row_txt)\n",
    "                \n",
    "\n",
    "\n",
    "\n"
   ]
  },
  {
   "cell_type": "code",
   "execution_count": 4,
   "metadata": {},
   "outputs": [
    {
     "name": "stdout",
     "output_type": "stream",
     "text": [
      "10      10      X0      X1      25      60    \n",
      "X2      X3      X4      X5      X6      55    \n",
      "5       10      X7      0       X8      35    \n",
      "X9      X10     5       X11     X12     25    \n",
      "X13     10      X14     X15     X16     50    \n",
      "40      55      35      35      60    \n",
      "65      55    \n"
     ]
    }
   ],
   "source": [
    "model = '''\n",
    "10  10  X   X   25  60\n",
    "X    X  X   X   X   55\n",
    "5   10  X   0   X   35\n",
    "X   X   5   X   X   25\n",
    "X   10  X   X   X   50\n",
    "40  55  35  35  60\n",
    "65  55\n",
    "'''\n",
    "\n",
    "\n",
    "m = ModelParser(model, [0,5,10,25])\n",
    "m.display_mrep()"
   ]
  },
  {
   "cell_type": "code",
   "execution_count": 5,
   "metadata": {},
   "outputs": [
    {
     "data": {
      "text/plain": [
       "[([0, 1], 15),\n",
       " ([2, 3, 4, 5, 6], 55),\n",
       " ([7, 8], 20),\n",
       " ([9, 10, 11, 12], 20),\n",
       " ([13, 14, 15, 16], 40),\n",
       " ([2, 9, 13], 25),\n",
       " ([3, 10], 25),\n",
       " ([0, 4, 7, 14], 30),\n",
       " ([1, 5, 11, 15], 35),\n",
       " ([6, 8, 12, 16], 35),\n",
       " ([3, 7, 11, 16], 55),\n",
       " ([5, 7, 10, 13], 30)]"
      ]
     },
     "execution_count": 5,
     "metadata": {},
     "output_type": "execute_result"
    }
   ],
   "source": [
    "m.constraints"
   ]
  },
  {
   "cell_type": "code",
   "execution_count": 6,
   "metadata": {},
   "outputs": [
    {
     "name": "stdout",
     "output_type": "stream",
     "text": [
      "Solution: \n",
      "10      10      *10*    *5*     25      60    \n",
      "*10*    *25*    *0*     *10*    *10*    55    \n",
      "5       10      *10*    0       *10*    35    \n",
      "*5*     *0*     5       *10*    *5*     25    \n",
      "*10*    10      *10*    *10*    *10*    50    \n",
      "40      55      35      35      60    \n",
      "65      55    \n",
      "Wall time: 8 ms\n"
     ]
    }
   ],
   "source": [
    "%%time\n",
    "\n",
    "p = constraint.Problem(constraint.BacktrackingSolver())\n",
    "p.addVariables(list(range(m.num_vars)), m.var_domain)\n",
    "for var_list, total in m.constraints:\n",
    "    p.addConstraint(constraint.ExactSumConstraint(total), var_list)        \n",
    "for s in p.getSolutions():\n",
    "    print('Solution: ')\n",
    "    m.print_solution(s)"
   ]
  },
  {
   "cell_type": "code",
   "execution_count": null,
   "metadata": {
    "collapsed": true
   },
   "outputs": [],
   "source": []
  }
 ],
 "metadata": {
  "kernelspec": {
   "display_name": "Python 3",
   "language": "python",
   "name": "python3"
  },
  "language_info": {
   "codemirror_mode": {
    "name": "ipython",
    "version": 3
   },
   "file_extension": ".py",
   "mimetype": "text/x-python",
   "name": "python",
   "nbconvert_exporter": "python",
   "pygments_lexer": "ipython3",
   "version": "3.6.3"
  }
 },
 "nbformat": 4,
 "nbformat_minor": 2
}
