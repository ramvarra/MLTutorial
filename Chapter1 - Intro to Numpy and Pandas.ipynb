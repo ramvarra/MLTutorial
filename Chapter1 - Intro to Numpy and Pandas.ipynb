{
 "cells": [
  {
   "cell_type": "markdown",
   "metadata": {},
   "source": [
    "# Introduction to Numpy and Pandas"
   ]
  },
  {
   "cell_type": "code",
   "execution_count": 1,
   "metadata": {
    "collapsed": true
   },
   "outputs": [],
   "source": [
    "import numpy as np\n",
    "import pandas as pd"
   ]
  },
  {
   "cell_type": "markdown",
   "metadata": {},
   "source": [
    "Numpy provides N-Dimensional Arrays"
   ]
  },
  {
   "cell_type": "code",
   "execution_count": 3,
   "metadata": {},
   "outputs": [
    {
     "name": "stdout",
     "output_type": "stream",
     "text": [
      "[1 2 3 4]\n",
      "Shape: (4,) NDim: 1, DType: int32\n"
     ]
    }
   ],
   "source": [
    "def show_info(a):\n",
    "    print(a)\n",
    "    print(f\"Shape: {a.shape} NDim: {a.ndim}, DType: {a.dtype}\")\n",
    "\n",
    "oned_array = np.array([1, 2, 3, 4])\n",
    "show_info(oned_array)"
   ]
  },
  {
   "cell_type": "code",
   "execution_count": 3,
   "metadata": {},
   "outputs": [
    {
     "name": "stdout",
     "output_type": "stream",
     "text": [
      "[[1 2 3]\n",
      " [4 5 6]\n",
      " [7 8 9]]\n",
      "Shape: (3, 3) NDim: 2, DType: int32\n"
     ]
    }
   ],
   "source": [
    "# use list of lists to build 2D array\n",
    "twod_array = np.array([[1, 2, 3], [4, 5, 6], [7, 8, 9]])\n",
    "show_info(twod_array)"
   ]
  },
  {
   "cell_type": "markdown",
   "metadata": {},
   "source": [
    "#### python lists can have multiple types. Each element is reference to an object."
   ]
  },
  {
   "cell_type": "code",
   "execution_count": 4,
   "metadata": {},
   "outputs": [
    {
     "name": "stdout",
     "output_type": "stream",
     "text": [
      "[[1, 2, 3], [4, '5', 6], [7, 8, 99.73]]\n"
     ]
    }
   ],
   "source": [
    "python_2d_list = [[1, 2, 3], [4, \"5\", 6], [7, 8, 99.73]]\n",
    "print(python_2d_list)"
   ]
  },
  {
   "cell_type": "markdown",
   "metadata": {},
   "source": [
    "#### numpy array elements need to have same type"
   ]
  },
  {
   "cell_type": "code",
   "execution_count": 5,
   "metadata": {},
   "outputs": [
    {
     "name": "stdout",
     "output_type": "stream",
     "text": [
      "[['1' '2' '3']\n",
      " ['4' '5' '6']\n",
      " ['7' '8' '99.73']]\n",
      "Shape: (3, 3) NDim: 2, DType: <U11\n"
     ]
    }
   ],
   "source": [
    "np2d_array = np.array(python_2d_list)\n",
    "show_info(np2d_array)  # all elements converted to a common type - in this case string"
   ]
  },
  {
   "cell_type": "markdown",
   "metadata": {},
   "source": [
    "#### type converted to float64"
   ]
  },
  {
   "cell_type": "code",
   "execution_count": 6,
   "metadata": {},
   "outputs": [
    {
     "name": "stdout",
     "output_type": "stream",
     "text": [
      "[ 1.  2.  3.  4.]\n",
      "Shape: (4,) NDim: 1, DType: float64\n"
     ]
    }
   ],
   "source": [
    "show_info(np.array([1, 2, 3, 4.0]))  "
   ]
  },
  {
   "cell_type": "markdown",
   "metadata": {},
   "source": [
    "#### use dtype to cast to specific type"
   ]
  },
  {
   "cell_type": "code",
   "execution_count": 4,
   "metadata": {},
   "outputs": [
    {
     "name": "stdout",
     "output_type": "stream",
     "text": [
      "[1 2 3 4]\n",
      "Shape: (4,) NDim: 1, DType: int32\n"
     ]
    }
   ],
   "source": [
    "show_info(np.array([1, 2, 3, 4.0], dtype=np.int32))"
   ]
  },
  {
   "cell_type": "markdown",
   "metadata": {},
   "source": [
    "#### compatible types converted silently"
   ]
  },
  {
   "cell_type": "code",
   "execution_count": 5,
   "metadata": {},
   "outputs": [
    {
     "name": "stdout",
     "output_type": "stream",
     "text": [
      "[1 2 3 4]\n",
      "Shape: (4,) NDim: 1, DType: int32\n"
     ]
    }
   ],
   "source": [
    "show_info(np.array([1, 2, \"3\", \"4\"], dtype=np.int32)) "
   ]
  },
  {
   "cell_type": "markdown",
   "metadata": {},
   "source": [
    "#### fails if the elements can not convert to requested dtype"
   ]
  },
  {
   "cell_type": "code",
   "execution_count": 10,
   "metadata": {},
   "outputs": [
    {
     "ename": "ValueError",
     "evalue": "invalid literal for int() with base 10: '3.0'",
     "output_type": "error",
     "traceback": [
      "\u001b[1;31m---------------------------------------------------------------------------\u001b[0m",
      "\u001b[1;31mValueError\u001b[0m                                Traceback (most recent call last)",
      "\u001b[1;32m<ipython-input-10-4f6e4de90f98>\u001b[0m in \u001b[0;36m<module>\u001b[1;34m()\u001b[0m\n\u001b[1;32m----> 1\u001b[1;33m \u001b[0mshow_info\u001b[0m\u001b[1;33m(\u001b[0m\u001b[0mnp\u001b[0m\u001b[1;33m.\u001b[0m\u001b[0marray\u001b[0m\u001b[1;33m(\u001b[0m\u001b[1;33m[\u001b[0m\u001b[1;36m1\u001b[0m\u001b[1;33m,\u001b[0m \u001b[1;36m2\u001b[0m\u001b[1;33m,\u001b[0m \u001b[1;34m\"3.0\"\u001b[0m\u001b[1;33m,\u001b[0m \u001b[1;34m\"4\"\u001b[0m\u001b[1;33m]\u001b[0m\u001b[1;33m,\u001b[0m \u001b[0mdtype\u001b[0m\u001b[1;33m=\u001b[0m\u001b[0mnp\u001b[0m\u001b[1;33m.\u001b[0m\u001b[0mint32\u001b[0m\u001b[1;33m)\u001b[0m\u001b[1;33m)\u001b[0m\u001b[1;33m\u001b[0m\u001b[0m\n\u001b[0m",
      "\u001b[1;31mValueError\u001b[0m: invalid literal for int() with base 10: '3.0'"
     ]
    }
   ],
   "source": [
    "show_info(np.array([1, 2, \"3.0\", \"4\"], dtype=np.int32)) "
   ]
  },
  {
   "cell_type": "markdown",
   "metadata": {},
   "source": [
    "#### see https://docs.python.org/3.6/tutorial/floatingpoint.html for explanation of why you do not get 3.23 in the print output"
   ]
  },
  {
   "cell_type": "code",
   "execution_count": 12,
   "metadata": {},
   "outputs": [
    {
     "name": "stdout",
     "output_type": "stream",
     "text": [
      "[ 1.          2.          3.23000002  4.        ]\n",
      "Shape: (4,) NDim: 1, DType: float32\n"
     ]
    }
   ],
   "source": [
    "show_info(np.array([1, 2, \"3.23\", \"4\"], dtype=np.float32))   "
   ]
  },
  {
   "cell_type": "markdown",
   "metadata": {},
   "source": [
    "### ReShaping"
   ]
  },
  {
   "cell_type": "code",
   "execution_count": 15,
   "metadata": {},
   "outputs": [
    {
     "name": "stdout",
     "output_type": "stream",
     "text": [
      "\n",
      "********** A1: One dimensional Array:\n",
      "[1 2 3 4]\n",
      "Shape: (4,) NDim: 1, DType: int32\n",
      "\n",
      "********** A2: 2 Dimensional Array with 1 row and 4 columns \n",
      "[[1 2 3 4]]\n",
      "Shape: (1, 4) NDim: 2, DType: int32\n",
      "\n",
      "********** A3: 2 Dimensional Array with 4 rows and 1 column\n",
      "[[1]\n",
      " [2]\n",
      " [3]\n",
      " [4]]\n",
      "Shape: (4, 1) NDim: 2, DType: int32\n"
     ]
    }
   ],
   "source": [
    "# following 3 arrays have 4 integers, with different shapes\n",
    "a1 = np.array([1, 2, 3, 4])\n",
    "a2 = np.array([[1, 2, 3, 4]])\n",
    "a3 = np.array([[1], [2], [3], [4]])\n",
    "\n",
    "print(\"\\n********** A1: One dimensional Array:\")\n",
    "show_info(a1)\n",
    "print(\"\\n********** A2: 2 Dimensional Array with 1 row and 4 columns \")\n",
    "show_info(a2)\n",
    "print(\"\\n********** A3: 2 Dimensional Array with 4 rows and 1 column\")\n",
    "show_info(a3)"
   ]
  },
  {
   "cell_type": "markdown",
   "metadata": {},
   "source": [
    "#### convert 1d array of 4 elements to 1row by 4 columns 2d array"
   ]
  },
  {
   "cell_type": "code",
   "execution_count": 16,
   "metadata": {},
   "outputs": [
    {
     "name": "stdout",
     "output_type": "stream",
     "text": [
      "[[1 2 3 4]]\n",
      "Shape: (1, 4) NDim: 2, DType: int32\n"
     ]
    }
   ],
   "source": [
    "a2 = a1.reshape((1, 4)) # note the argument is a tuple - hence need two parenthesis\n",
    "show_info(a2)\n"
   ]
  },
  {
   "cell_type": "markdown",
   "metadata": {},
   "source": [
    "#### convert 1d array of 4 elements to 4rows by 1 column 2d array"
   ]
  },
  {
   "cell_type": "code",
   "execution_count": 17,
   "metadata": {},
   "outputs": [
    {
     "name": "stdout",
     "output_type": "stream",
     "text": [
      "[[1]\n",
      " [2]\n",
      " [3]\n",
      " [4]]\n",
      "Shape: (4, 1) NDim: 2, DType: int32\n"
     ]
    }
   ],
   "source": [
    "a3 = a1.reshape((4, 1)) \n",
    "show_info(a3)"
   ]
  },
  {
   "cell_type": "markdown",
   "metadata": {},
   "source": [
    "#### convert 1d array of 4 elements to 2x2 2dArray"
   ]
  },
  {
   "cell_type": "code",
   "execution_count": 18,
   "metadata": {},
   "outputs": [
    {
     "name": "stdout",
     "output_type": "stream",
     "text": [
      "[[1 2]\n",
      " [3 4]]\n",
      "Shape: (2, 2) NDim: 2, DType: int32\n"
     ]
    }
   ],
   "source": [
    "a4 = a1.reshape((2, 2))\n",
    "show_info(a4)"
   ]
  },
  {
   "cell_type": "markdown",
   "metadata": {},
   "source": [
    "#### np.newaxis adds another dimention of size 1"
   ]
  },
  {
   "cell_type": "code",
   "execution_count": 19,
   "metadata": {},
   "outputs": [
    {
     "name": "stdout",
     "output_type": "stream",
     "text": [
      "[[1]\n",
      " [2]\n",
      " [3]\n",
      " [4]]\n",
      "Shape: (4, 1) NDim: 2, DType: int32\n"
     ]
    }
   ],
   "source": [
    "a = np.array([1, 2, 3, 4])\n",
    "show_info(a[:, np.newaxis])"
   ]
  },
  {
   "cell_type": "code",
   "execution_count": 20,
   "metadata": {},
   "outputs": [
    {
     "name": "stdout",
     "output_type": "stream",
     "text": [
      "[[1 2 3 4]]\n",
      "Shape: (1, 4) NDim: 2, DType: int32\n"
     ]
    }
   ],
   "source": [
    "a = np.array([1, 2, 3, 4])\n",
    "show_info(a[np.newaxis, :])"
   ]
  },
  {
   "cell_type": "markdown",
   "metadata": {},
   "source": [
    "#### numpy re-uses same memory contents where possible.  Modifying the array with any of the  reshaped objects will affect all others."
   ]
  },
  {
   "cell_type": "code",
   "execution_count": 21,
   "metadata": {},
   "outputs": [
    {
     "name": "stdout",
     "output_type": "stream",
     "text": [
      "[  1 100   3   4]\n"
     ]
    }
   ],
   "source": [
    "# modify second element\n",
    "a1 = np.array([1, 2, 3, 4])\n",
    "a2 = a1.reshape((4, 1))\n",
    "a3 = a1.reshape((1, 4))\n",
    "a4 = a1.reshape((2, 2))\n",
    "\n",
    "\n",
    "a1[1] = 100\n",
    "\n",
    "print(a1)"
   ]
  },
  {
   "cell_type": "code",
   "execution_count": 28,
   "metadata": {},
   "outputs": [
    {
     "data": {
      "text/plain": [
       "(array([  1, 100,   3,  -1]), array([[  1],\n",
       "        [100],\n",
       "        [  3],\n",
       "        [ -1]]), array([[  1, 100,   3,  -1]]), array([[  1, 100],\n",
       "        [  3,  -1]]))"
      ]
     },
     "execution_count": 28,
     "metadata": {},
     "output_type": "execute_result"
    }
   ],
   "source": [
    "a1, a2, a3, a4"
   ]
  },
  {
   "cell_type": "code",
   "execution_count": 25,
   "metadata": {
    "collapsed": true
   },
   "outputs": [],
   "source": [
    "a4[1,1] = -1"
   ]
  },
  {
   "cell_type": "markdown",
   "metadata": {},
   "source": [
    "#### Use np.copy to create copies."
   ]
  },
  {
   "cell_type": "code",
   "execution_count": 29,
   "metadata": {},
   "outputs": [
    {
     "name": "stdout",
     "output_type": "stream",
     "text": [
      "a1: [  1 100   3   4]\n",
      "a2: [[1 2 3 4]]\n",
      "a3: [[1]\n",
      " [2]\n",
      " [3]\n",
      " [4]]\n",
      "a4: [[1 2]\n",
      " [3 4]]\n"
     ]
    }
   ],
   "source": [
    "a1 = np.array([1, 2, 3, 4])\n",
    "a2 = a1.reshape((1, 4)).copy()\n",
    "a3 = a1.reshape((4, 1)).copy()\n",
    "a4 = a1.reshape((2, 2)).copy()\n",
    "\n",
    "a1[1] = 100 # will not affect the copies\n",
    "\n",
    "print('a1:', a1)\n",
    "print('a2:', a2)\n",
    "print('a3:', a3)\n",
    "print('a4:', a4)"
   ]
  },
  {
   "cell_type": "markdown",
   "metadata": {},
   "source": [
    "#### Array creation"
   ]
  },
  {
   "cell_type": "code",
   "execution_count": 30,
   "metadata": {},
   "outputs": [
    {
     "data": {
      "text/plain": [
       "array([0, 1, 2, 3, 4, 5], dtype=int16)"
      ]
     },
     "execution_count": 30,
     "metadata": {},
     "output_type": "execute_result"
    }
   ],
   "source": [
    "# np.arange() - similar to python range()\n",
    "np.arange(6, dtype=np.int16)"
   ]
  },
  {
   "cell_type": "code",
   "execution_count": 32,
   "metadata": {},
   "outputs": [
    {
     "name": "stdout",
     "output_type": "stream",
     "text": [
      "[ 0.  0.  0.  0.  0.]\n",
      "Shape: (5,) NDim: 1, DType: float64\n",
      "[[0 0 0 0 0]\n",
      " [0 0 0 0 0]\n",
      " [0 0 0 0 0]\n",
      " [0 0 0 0 0]]\n",
      "Shape: (4, 5) NDim: 2, DType: int32\n",
      "[[0 0 0 0 0]\n",
      " [0 0 0 0 0]\n",
      " [0 0 0 0 0]\n",
      " [0 0 0 0 0]]\n",
      "Shape: (4, 5) NDim: 2, DType: int32\n"
     ]
    }
   ],
   "source": [
    "show_info(np.zeros(5))\n",
    "show_info(np.zeros((4,5), dtype=np.int32))\n",
    "show_info(np.zeros(20, dtype=np.int32).reshape((4,5)))"
   ]
  },
  {
   "cell_type": "code",
   "execution_count": 34,
   "metadata": {},
   "outputs": [
    {
     "name": "stdout",
     "output_type": "stream",
     "text": [
      "[ 1.  1.  1.  1.  1.]\n",
      "Shape: (5,) NDim: 1, DType: float64\n",
      "[[1 1 1 1 1]\n",
      " [1 1 1 1 1]\n",
      " [1 1 1 1 1]\n",
      " [1 1 1 1 1]]\n",
      "Shape: (4, 5) NDim: 2, DType: int16\n"
     ]
    }
   ],
   "source": [
    "show_info(np.ones(5))\n",
    "show_info(np.ones((4,5), dtype=np.int16))"
   ]
  },
  {
   "cell_type": "code",
   "execution_count": 43,
   "metadata": {},
   "outputs": [
    {
     "name": "stdout",
     "output_type": "stream",
     "text": [
      "[0 0 0 0 0 0 0 0 0 0]\n",
      "Shape: (10,) NDim: 1, DType: int8\n",
      "[44  0  0  0  0  0  0  0  0  0]\n",
      "Shape: (10,) NDim: 1, DType: int8\n"
     ]
    }
   ],
   "source": [
    "# data is truncated to fit\n",
    "a = np.zeros(10, dtype=np.int8)\n",
    "show_info(a)\n",
    "a[0] = 300\n",
    "show_info(a)"
   ]
  },
  {
   "cell_type": "code",
   "execution_count": 44,
   "metadata": {},
   "outputs": [
    {
     "name": "stdout",
     "output_type": "stream",
     "text": [
      "[[1 0 0 0]\n",
      " [0 1 0 0]\n",
      " [0 0 1 0]\n",
      " [0 0 0 1]]\n",
      "Shape: (4, 4) NDim: 2, DType: int32\n"
     ]
    }
   ],
   "source": [
    "show_info(np.identity(4, dtype=np.int32))"
   ]
  },
  {
   "cell_type": "markdown",
   "metadata": {
    "collapsed": true
   },
   "source": [
    "#### Transpose"
   ]
  },
  {
   "cell_type": "code",
   "execution_count": 45,
   "metadata": {},
   "outputs": [
    {
     "name": "stdout",
     "output_type": "stream",
     "text": [
      "[[ 0  1  2  3]\n",
      " [ 4  5  6  7]\n",
      " [ 8  9 10 11]]\n",
      "Shape: (3, 4) NDim: 2, DType: int32\n"
     ]
    }
   ],
   "source": [
    "a = np.array(range(12)).reshape((3,4))\n",
    "show_info(a)"
   ]
  },
  {
   "cell_type": "code",
   "execution_count": 48,
   "metadata": {},
   "outputs": [
    {
     "name": "stdout",
     "output_type": "stream",
     "text": [
      "[[ 0  4  8]\n",
      " [ 1  5  9]\n",
      " [ 2  6 10]\n",
      " [ 3  7 11]]\n",
      "Shape: (4, 3) NDim: 2, DType: int32\n",
      "[[ 0  1  2]\n",
      " [ 3  4  5]\n",
      " [ 6  7  8]\n",
      " [ 9 10 11]]\n",
      "Shape: (4, 3) NDim: 2, DType: int32\n"
     ]
    }
   ],
   "source": [
    "aT = a.transpose()\n",
    "show_info(aT)\n",
    "\n",
    "show_info(a.reshape(4, 3))"
   ]
  },
  {
   "cell_type": "code",
   "execution_count": 49,
   "metadata": {},
   "outputs": [
    {
     "name": "stdout",
     "output_type": "stream",
     "text": [
      "[[  0   1   2   3]\n",
      " [  4 100   6   7]\n",
      " [  8   9  10  11]]\n",
      "[[  0   4   8]\n",
      " [  1 100   9]\n",
      " [  2   6  10]\n",
      " [  3   7  11]]\n"
     ]
    }
   ],
   "source": [
    "# Transpose reuses the memory\n",
    "a[1][1] = 100\n",
    "print(a)\n",
    "print(aT)"
   ]
  },
  {
   "cell_type": "markdown",
   "metadata": {},
   "source": [
    "#### Concatenate"
   ]
  },
  {
   "cell_type": "code",
   "execution_count": 51,
   "metadata": {},
   "outputs": [
    {
     "name": "stdout",
     "output_type": "stream",
     "text": [
      "[1 2 3 4 5 6 7 8]\n",
      "Shape: (8,) NDim: 1, DType: int32\n"
     ]
    }
   ],
   "source": [
    "a = np.array([1, 2, 3])\n",
    "b = np.array([4, 5])\n",
    "c = np.array([6, 7, 8])\n",
    "d = np.concatenate([a, b, c])\n",
    "show_info(d)"
   ]
  },
  {
   "cell_type": "code",
   "execution_count": 53,
   "metadata": {},
   "outputs": [
    {
     "data": {
      "text/plain": [
       "array([1, 2, 3, 4, 5, 6, 7, 8])"
      ]
     },
     "execution_count": 53,
     "metadata": {},
     "output_type": "execute_result"
    }
   ],
   "source": [
    "# concatenate will copy the data\n",
    "a[0] = -1\n",
    "d"
   ]
  },
  {
   "cell_type": "code",
   "execution_count": 55,
   "metadata": {},
   "outputs": [
    {
     "data": {
      "text/plain": [
       "array([[  0,   1,   2,   3],\n",
       "       [  4,   5,   6,   7],\n",
       "       [  8,   9,  10,  11],\n",
       "       [100, 101, 102, 103],\n",
       "       [104, 105, 106, 107],\n",
       "       [108, 109, 110, 111]])"
      ]
     },
     "execution_count": 55,
     "metadata": {},
     "output_type": "execute_result"
    }
   ],
   "source": [
    "# default concatenate along axis 0 (Row Axis)\n",
    "a = np.arange(12).reshape(3,4)\n",
    "b = np.arange(12).reshape(3,4) + 100\n",
    "np.concatenate([a, b])"
   ]
  },
  {
   "cell_type": "code",
   "execution_count": 56,
   "metadata": {},
   "outputs": [
    {
     "data": {
      "text/plain": [
       "array([[  0,   1,   2,   3, 100, 101, 102, 103],\n",
       "       [  4,   5,   6,   7, 104, 105, 106, 107],\n",
       "       [  8,   9,  10,  11, 108, 109, 110, 111]])"
      ]
     },
     "execution_count": 56,
     "metadata": {},
     "output_type": "execute_result"
    }
   ],
   "source": [
    "# specify axis for concatenation on different axis.  axis 1 is column axis.\n",
    "np.concatenate([a, b], axis=1)"
   ]
  },
  {
   "cell_type": "code",
   "execution_count": null,
   "metadata": {
    "collapsed": true
   },
   "outputs": [],
   "source": []
  }
 ],
 "metadata": {
  "kernelspec": {
   "display_name": "Python 3",
   "language": "python",
   "name": "python3"
  },
  "language_info": {
   "codemirror_mode": {
    "name": "ipython",
    "version": 3
   },
   "file_extension": ".py",
   "mimetype": "text/x-python",
   "name": "python",
   "nbconvert_exporter": "python",
   "pygments_lexer": "ipython3",
   "version": "3.6.3"
  }
 },
 "nbformat": 4,
 "nbformat_minor": 2
}
