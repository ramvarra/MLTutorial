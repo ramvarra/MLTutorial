{
 "cells": [
  {
   "cell_type": "markdown",
   "metadata": {},
   "source": [
    "# Introduction to Numpy and Pandas"
   ]
  },
  {
   "cell_type": "code",
   "execution_count": 1,
   "metadata": {
    "collapsed": true
   },
   "outputs": [],
   "source": [
    "import numpy as np\n",
    "import pandas as pd"
   ]
  },
  {
   "cell_type": "markdown",
   "metadata": {},
   "source": [
    "Numpy provides N-Dimensional Arrays"
   ]
  },
  {
   "cell_type": "code",
   "execution_count": 7,
   "metadata": {},
   "outputs": [
    {
     "name": "stdout",
     "output_type": "stream",
     "text": [
      "[1 2 3 4]\n",
      "Shape: (4,) NDim: 1, DType: int32\n"
     ]
    }
   ],
   "source": [
    "def show_info(a):\n",
    "    print(a)\n",
    "    print(f\"Shape: {a.shape} NDim: {a.ndim}, DType: {a.dtype}\")\n",
    "\n",
    "oned_array = np.array([1, 2, 3, 4])\n",
    "show_info(oned_array)"
   ]
  },
  {
   "cell_type": "code",
   "execution_count": 8,
   "metadata": {},
   "outputs": [
    {
     "name": "stdout",
     "output_type": "stream",
     "text": [
      "[[1 2 3]\n",
      " [4 5 6]\n",
      " [7 8 9]]\n",
      "Shape: (3, 3) NDim: 2, DType: int32\n"
     ]
    }
   ],
   "source": [
    "# use list of lists to build 2D array\n",
    "twod_array = np.array([[1, 2, 3], [4, 5, 6], [7, 8, 9]])\n",
    "show_info(twod_array)"
   ]
  },
  {
   "cell_type": "markdown",
   "metadata": {},
   "source": [
    "#### python lists can have multiple types. Each element is reference to an object."
   ]
  },
  {
   "cell_type": "code",
   "execution_count": 10,
   "metadata": {},
   "outputs": [
    {
     "name": "stdout",
     "output_type": "stream",
     "text": [
      "[[1, 2, 3], [4, '5', 6], [7, 8, 99.73]]\n"
     ]
    }
   ],
   "source": [
    "python_2d_list = [[1, 2, 3], [4, \"5\", 6], [7, 8, 99.73]]\n",
    "print(normal_2d_list)"
   ]
  },
  {
   "cell_type": "markdown",
   "metadata": {},
   "source": [
    "#### numpy array elements need to have same type"
   ]
  },
  {
   "cell_type": "code",
   "execution_count": 11,
   "metadata": {},
   "outputs": [
    {
     "name": "stdout",
     "output_type": "stream",
     "text": [
      "[['1' '2' '3']\n",
      " ['4' '5' '6']\n",
      " ['7' '8' '99.73']]\n",
      "Shape: (3, 3) NDim: 2, DType: <U11\n"
     ]
    }
   ],
   "source": [
    "np2d_array = np.array(python_2d_list)\n",
    "show_info(np2d_array)  # all elements converted to a common type - in this case string"
   ]
  },
  {
   "cell_type": "markdown",
   "metadata": {},
   "source": [
    "#### type converted to float64"
   ]
  },
  {
   "cell_type": "code",
   "execution_count": 13,
   "metadata": {},
   "outputs": [
    {
     "name": "stdout",
     "output_type": "stream",
     "text": [
      "[ 1.  2.  3.  4.]\n",
      "Shape: (4,) NDim: 1, DType: float64\n"
     ]
    }
   ],
   "source": [
    "show_info(np.array([1, 2, 3, 4.0]))  "
   ]
  },
  {
   "cell_type": "markdown",
   "metadata": {},
   "source": [
    "#### use dtype to cast to specific type"
   ]
  },
  {
   "cell_type": "code",
   "execution_count": 14,
   "metadata": {},
   "outputs": [
    {
     "name": "stdout",
     "output_type": "stream",
     "text": [
      "[1 2 3 4]\n",
      "Shape: (4,) NDim: 1, DType: int32\n"
     ]
    }
   ],
   "source": [
    "show_info(np.array([1, 2, 3, 4.0], dtype=np.int32))  "
   ]
  },
  {
   "cell_type": "markdown",
   "metadata": {},
   "source": [
    "#### compatible types converted silently"
   ]
  },
  {
   "cell_type": "code",
   "execution_count": 15,
   "metadata": {},
   "outputs": [
    {
     "name": "stdout",
     "output_type": "stream",
     "text": [
      "[1 2 3 4]\n",
      "Shape: (4,) NDim: 1, DType: int32\n"
     ]
    }
   ],
   "source": [
    "show_info(np.array([1, 2, \"3\", \"4\"], dtype=np.int32)) "
   ]
  },
  {
   "cell_type": "markdown",
   "metadata": {},
   "source": [
    "#### fails if the elements can not convert to requested dtype"
   ]
  },
  {
   "cell_type": "code",
   "execution_count": 17,
   "metadata": {},
   "outputs": [
    {
     "ename": "ValueError",
     "evalue": "invalid literal for int() with base 10: '3.23'",
     "output_type": "error",
     "traceback": [
      "\u001b[1;31m---------------------------------------------------------------------------\u001b[0m",
      "\u001b[1;31mValueError\u001b[0m                                Traceback (most recent call last)",
      "\u001b[1;32m<ipython-input-17-7b4f66b5041b>\u001b[0m in \u001b[0;36m<module>\u001b[1;34m()\u001b[0m\n\u001b[1;32m----> 1\u001b[1;33m \u001b[0mshow_info\u001b[0m\u001b[1;33m(\u001b[0m\u001b[0mnp\u001b[0m\u001b[1;33m.\u001b[0m\u001b[0marray\u001b[0m\u001b[1;33m(\u001b[0m\u001b[1;33m[\u001b[0m\u001b[1;36m1\u001b[0m\u001b[1;33m,\u001b[0m \u001b[1;36m2\u001b[0m\u001b[1;33m,\u001b[0m \u001b[1;34m\"3.23\"\u001b[0m\u001b[1;33m,\u001b[0m \u001b[1;34m\"4\"\u001b[0m\u001b[1;33m]\u001b[0m\u001b[1;33m,\u001b[0m \u001b[0mdtype\u001b[0m\u001b[1;33m=\u001b[0m\u001b[0mnp\u001b[0m\u001b[1;33m.\u001b[0m\u001b[0mint32\u001b[0m\u001b[1;33m)\u001b[0m\u001b[1;33m)\u001b[0m \u001b[1;31m# fails if can not convert to requested dtype\u001b[0m\u001b[1;33m\u001b[0m\u001b[0m\n\u001b[0m",
      "\u001b[1;31mValueError\u001b[0m: invalid literal for int() with base 10: '3.23'"
     ]
    }
   ],
   "source": [
    "show_info(np.array([1, 2, \"3.23\", \"4\"], dtype=np.int32)) "
   ]
  },
  {
   "cell_type": "markdown",
   "metadata": {},
   "source": [
    "#### see https://docs.python.org/3.6/tutorial/floatingpoint.html for explanation of why you do not get 3.23 in the print output"
   ]
  },
  {
   "cell_type": "code",
   "execution_count": 19,
   "metadata": {},
   "outputs": [
    {
     "name": "stdout",
     "output_type": "stream",
     "text": [
      "[ 1.          2.          3.23000002  4.        ]\n",
      "Shape: (4,) NDim: 1, DType: float32\n"
     ]
    }
   ],
   "source": [
    "show_info(np.array([1, 2, \"3.23\", \"4\"], dtype=np.float32))   \n"
   ]
  },
  {
   "cell_type": "markdown",
   "metadata": {},
   "source": [
    "### ReShaping"
   ]
  },
  {
   "cell_type": "code",
   "execution_count": 30,
   "metadata": {},
   "outputs": [
    {
     "name": "stdout",
     "output_type": "stream",
     "text": [
      "\n",
      "********** A1: One dimensional Array:\n",
      "[1 2 3 4]\n",
      "Shape: (4,) NDim: 1, DType: int32\n",
      "\n",
      "********** A2: 2 Dimensional Array with 1 row and 4 columns \n",
      "[[1]\n",
      " [2]\n",
      " [3]\n",
      " [4]]\n",
      "Shape: (4, 1) NDim: 2, DType: int32\n",
      "\n",
      "********** A2: 2 Dimensional Array with 4 rows and 1 column\n",
      "[[1 2 4 4]]\n",
      "Shape: (1, 4) NDim: 2, DType: int32\n"
     ]
    }
   ],
   "source": [
    "# following 3 arrays have 4 integers, with different shapes\n",
    "a1 = np.array([1, 2, 3, 4])\n",
    "a3 = np.array([[1, 2, 4, 4]])\n",
    "a2 = np.array([[1], [2], [3], [4]])\n",
    "\n",
    "print(\"\\n********** A1: One dimensional Array:\")\n",
    "show_info(a1)\n",
    "print(\"\\n********** A2: 2 Dimensional Array with 1 row and 4 columns \")\n",
    "show_info(a2)\n",
    "print(\"\\n********** A2: 2 Dimensional Array with 4 rows and 1 column\")\n",
    "show_info(a3)"
   ]
  },
  {
   "cell_type": "markdown",
   "metadata": {},
   "source": [
    "#### convert 1d array of 4 elements to 1row by 4 columns 2d array"
   ]
  },
  {
   "cell_type": "code",
   "execution_count": 43,
   "metadata": {},
   "outputs": [
    {
     "name": "stdout",
     "output_type": "stream",
     "text": [
      "[[1 2 3 4]]\n",
      "Shape: (1, 4) NDim: 2, DType: int32\n"
     ]
    }
   ],
   "source": [
    "a2 = a1.reshape((1, 4)) # note the argument is a tuple - hence need two parenthesis\n",
    "show_info(a2)\n"
   ]
  },
  {
   "cell_type": "markdown",
   "metadata": {},
   "source": [
    "#### convert 1d array of 4 elements to 4rows by 1 column 2d array"
   ]
  },
  {
   "cell_type": "code",
   "execution_count": 44,
   "metadata": {},
   "outputs": [
    {
     "name": "stdout",
     "output_type": "stream",
     "text": [
      "[[1]\n",
      " [2]\n",
      " [3]\n",
      " [4]]\n",
      "Shape: (4, 1) NDim: 2, DType: int32\n"
     ]
    }
   ],
   "source": [
    "a3 = a1.reshape((4, 1)) \n",
    "show_info(a3)"
   ]
  },
  {
   "cell_type": "markdown",
   "metadata": {},
   "source": [
    "#### convert 1d array of 4 elements to 2x2 2dArray"
   ]
  },
  {
   "cell_type": "code",
   "execution_count": 45,
   "metadata": {},
   "outputs": [
    {
     "name": "stdout",
     "output_type": "stream",
     "text": [
      "[[1 2]\n",
      " [3 4]]\n",
      "Shape: (2, 2) NDim: 2, DType: int32\n"
     ]
    }
   ],
   "source": [
    "a4 = a1.reshape((2, 2))\n",
    "show_info(a4)"
   ]
  },
  {
   "cell_type": "markdown",
   "metadata": {},
   "source": [
    "#### numpy re-uses same memory contents where possible.  Modifying the array with any of the  reshaped objects will affect all others."
   ]
  },
  {
   "cell_type": "code",
   "execution_count": 46,
   "metadata": {},
   "outputs": [
    {
     "name": "stdout",
     "output_type": "stream",
     "text": [
      "[  1 100   3   4]\n"
     ]
    }
   ],
   "source": [
    "# modify second element\n",
    "a1[1] = 100\n",
    "\n",
    "print(a1)"
   ]
  },
  {
   "cell_type": "code",
   "execution_count": 47,
   "metadata": {},
   "outputs": [
    {
     "name": "stdout",
     "output_type": "stream",
     "text": [
      "[[  1 100   3   4]]\n"
     ]
    }
   ],
   "source": [
    "print(a2)"
   ]
  },
  {
   "cell_type": "code",
   "execution_count": 48,
   "metadata": {},
   "outputs": [
    {
     "name": "stdout",
     "output_type": "stream",
     "text": [
      "[[  1]\n",
      " [100]\n",
      " [  3]\n",
      " [  4]]\n"
     ]
    }
   ],
   "source": [
    "print(a3)"
   ]
  },
  {
   "cell_type": "code",
   "execution_count": 49,
   "metadata": {},
   "outputs": [
    {
     "name": "stdout",
     "output_type": "stream",
     "text": [
      "[[  1 100]\n",
      " [  3   4]]\n"
     ]
    }
   ],
   "source": [
    "print(a4)"
   ]
  },
  {
   "cell_type": "markdown",
   "metadata": {},
   "source": [
    "#### Use np.copy to create copies."
   ]
  },
  {
   "cell_type": "code",
   "execution_count": 54,
   "metadata": {},
   "outputs": [
    {
     "name": "stdout",
     "output_type": "stream",
     "text": [
      "a1: [  1 100   3   4]\n",
      "a2: [[1 2 3 4]]\n",
      "a3: [[1]\n",
      " [2]\n",
      " [3]\n",
      " [4]]\n",
      "a4: [[1 2]\n",
      " [3 4]]\n"
     ]
    }
   ],
   "source": [
    "a1 = np.array([1, 2, 3, 4])\n",
    "a2 = a1.reshape((1, 4)).copy()\n",
    "a3 = a1.reshape((4, 1)).copy()\n",
    "a4 = a1.reshape((2, 2)).copy()\n",
    "\n",
    "a1[1] = 100 # will not affect the copies\n",
    "\n",
    "print('a1:', a1)\n",
    "print('a2:', a2)\n",
    "print('a3:', a3)\n",
    "print('a4:', a4)"
   ]
  },
  {
   "cell_type": "code",
   "execution_count": null,
   "metadata": {
    "collapsed": true
   },
   "outputs": [],
   "source": []
  }
 ],
 "metadata": {
  "kernelspec": {
   "display_name": "Python 3",
   "language": "python",
   "name": "python3"
  },
  "language_info": {
   "codemirror_mode": {
    "name": "ipython",
    "version": 3
   },
   "file_extension": ".py",
   "mimetype": "text/x-python",
   "name": "python",
   "nbconvert_exporter": "python",
   "pygments_lexer": "ipython3",
   "version": "3.6.3"
  }
 },
 "nbformat": 4,
 "nbformat_minor": 2
}
